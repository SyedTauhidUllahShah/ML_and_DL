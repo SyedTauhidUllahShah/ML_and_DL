{
 "cells": [
  {
   "cell_type": "code",
   "execution_count": 6,
   "metadata": {
    "ExecuteTime": {
     "end_time": "2019-01-15T15:16:58.536744Z",
     "start_time": "2019-01-15T15:16:58.528195Z"
    }
   },
   "outputs": [],
   "source": [
    "# Implementation of Neural Network from scratch\n",
    "# Author: Tushar Mittal"
   ]
  },
  {
   "cell_type": "code",
   "execution_count": 89,
   "metadata": {
    "ExecuteTime": {
     "end_time": "2019-01-16T14:47:46.250794Z",
     "start_time": "2019-01-16T14:47:46.242100Z"
    }
   },
   "outputs": [],
   "source": [
    "import numpy as np\n",
    "from sklearn.datasets import load_breast_cancer\n",
    "from sklearn.model_selection import train_test_split\n",
    "from sklearn.preprocessing import normalize, StandardScaler\n",
    "import matplotlib.pyplot as plt"
   ]
  },
  {
   "cell_type": "code",
   "execution_count": 22,
   "metadata": {
    "ExecuteTime": {
     "end_time": "2019-01-16T13:33:22.483245Z",
     "start_time": "2019-01-16T13:33:22.472797Z"
    }
   },
   "outputs": [],
   "source": [
    "# Apply activation function to input matrix (used in Forward Pass)\n",
    "def calc_activation(Z, activation):\n",
    "    if activation == \"sigmoid\":\n",
    "        return 1/(1+np.exp(-Z))\n",
    "    if activation == \"relu\":\n",
    "        return np.where(Z>0, Z, 0)\n",
    "    if activation == \"tanh\":\n",
    "        return np.tanh(Z)\n",
    "    raise NameError(\"Invalid activation function\")"
   ]
  },
  {
   "cell_type": "code",
   "execution_count": 23,
   "metadata": {
    "ExecuteTime": {
     "end_time": "2019-01-16T13:33:23.074225Z",
     "start_time": "2019-01-16T13:33:23.061923Z"
    }
   },
   "outputs": [],
   "source": [
    "# Calculate dervative of activation function (used in Backprop)\n",
    "def calc_activation_derv(A, activation):\n",
    "    if activation == \"sigmoid\":\n",
    "        return A*(1-A)\n",
    "    if activation == \"tanh\":\n",
    "        return 1- np.power(A,2)\n",
    "    if activation == \"relu\":\n",
    "        return np.where(A>0, 1, 0)\n",
    "    raise NameError(\"Invalid activation function\")"
   ]
  },
  {
   "cell_type": "code",
   "execution_count": 58,
   "metadata": {
    "ExecuteTime": {
     "end_time": "2019-01-16T13:39:06.845180Z",
     "start_time": "2019-01-16T13:39:06.839738Z"
    }
   },
   "outputs": [],
   "source": [
    "# Initializes the weight and bias matrices\n",
    "def initialize_nn(nl, layer_sizes):\n",
    "    params = {}\n",
    "    for i in range(nl):\n",
    "        params[\"W\"+str(i+1)] = np.random.randn(layer_sizes[i+1], layer_sizes[i]) * 0.01\n",
    "        params[\"b\"+str(i+1)] = np.zeros((layer_sizes[i+1],1))\n",
    "    return params"
   ]
  },
  {
   "cell_type": "code",
   "execution_count": 90,
   "metadata": {
    "ExecuteTime": {
     "end_time": "2019-01-16T14:56:03.632387Z",
     "start_time": "2019-01-16T14:56:03.619844Z"
    }
   },
   "outputs": [],
   "source": [
    "# Executes a forward pass\n",
    "def forward(X, params, nl, activations):\n",
    "    fcache = {\"A0\":X}\n",
    "    for i in range(nl):\n",
    "        W = params[\"W\"+str(i+1)]\n",
    "        A = A_cache[\"A\"+str(i)]\n",
    "        b = params[\"b\"+str(i+1)]\n",
    "        Z = np.dot(W,A)+b\n",
    "        A = calc_activation(Z,activations[i])\n",
    "        fcache[\"Z\"+str(i+1)] = Z\n",
    "        fcache[\"A\"+str(i+1)] = A\n",
    "    return fcache"
   ]
  },
  {
   "cell_type": "code",
   "execution_count": 76,
   "metadata": {
    "ExecuteTime": {
     "end_time": "2019-01-16T13:49:05.703946Z",
     "start_time": "2019-01-16T13:49:05.698097Z"
    }
   },
   "outputs": [],
   "source": [
    "# Calculates the cost \n",
    "def calc_cost(A,Y,m):\n",
    "    cost = (Y*np.log(A)) + ((1-Y)*(np.log(1-A))) \n",
    "    total_cost = -np.sum(cost, axis=1, keepdims=True)/m\n",
    "    return np.squeeze(total_cost)"
   ]
  },
  {
   "cell_type": "code",
   "execution_count": 71,
   "metadata": {
    "ExecuteTime": {
     "end_time": "2019-01-16T13:46:36.613370Z",
     "start_time": "2019-01-16T13:46:36.603042Z"
    }
   },
   "outputs": [],
   "source": [
    "# The backpropogation algorithm to calculate derivatives \n",
    "def backprop(Y, m, nl, fcache, params, activations):\n",
    "    dparams = {}\n",
    "    A = fcache[\"A\"+str(nl)]\n",
    "    dA = -(np.divide(Y,A) - np.divide((1-Y),(1-A)))\n",
    "    for i in range(nl, 0, -1):\n",
    "        dZ = dA * calc_activation_derv(A_cache[\"A\"+str(i)], activations[i-1])\n",
    "        dW = np.dot(dZ, A_cache[\"A\"+str(i-1)].T)/m\n",
    "        db = np.sum(dZ, axis=1, keepdims=True)/m\n",
    "        dA = np.dot(params[\"W\"+str(i)].T, dZ)\n",
    "        dparams[\"dW\"+str(i)] = dW\n",
    "        dparams[\"db\"+str(i)] = db\n",
    "    return dparams"
   ]
  },
  {
   "cell_type": "code",
   "execution_count": 72,
   "metadata": {
    "ExecuteTime": {
     "end_time": "2019-01-16T13:46:36.901418Z",
     "start_time": "2019-01-16T13:46:36.889339Z"
    }
   },
   "outputs": [],
   "source": [
    "# updates the weight and bias matrices\n",
    "def update_params(nl, learning_rate, params, dparams):\n",
    "    for i in range(nl):\n",
    "        W = params[\"W\"+str(i+1)]\n",
    "        dW = dparams[\"dW\"+str(i+1)]\n",
    "        b = params[\"b\"+str(i+1)]\n",
    "        db = dparams[\"db\"+str(i+1)]\n",
    "        W = W - (learning_rate*dW)\n",
    "        b = b - (learning_rate*db)\n",
    "        params[\"W\"+str(i+1)] = W\n",
    "        params[\"b\"+str(i+1)] = b\n",
    "    return params"
   ]
  },
  {
   "cell_type": "code",
   "execution_count": 78,
   "metadata": {
    "ExecuteTime": {
     "end_time": "2019-01-16T13:49:37.064911Z",
     "start_time": "2019-01-16T13:49:37.041793Z"
    }
   },
   "outputs": [],
   "source": [
    "# loading the dataset\n",
    "data = load_breast_cancer()\n",
    "X = data.data\n",
    "Y = data.target\n",
    "# preprocessing the data\n",
    "scaler = StandardScaler()\n",
    "X = normalize(X)\n",
    "# m -> no. of training examples\n",
    "m = X.shape[0]\n",
    "# n -> no. of features\n",
    "n = X.shape[1]\n",
    "Y = Y.reshape(1,m)\n",
    "X = X.T"
   ]
  },
  {
   "cell_type": "code",
   "execution_count": 85,
   "metadata": {
    "ExecuteTime": {
     "end_time": "2019-01-16T13:54:39.873524Z",
     "start_time": "2019-01-16T13:54:39.812800Z"
    }
   },
   "outputs": [],
   "source": [
    "#defining and trinaing the model\n",
    "# nl : number of layers (2 hidden + 1 output)\n",
    "nl = 3\n",
    "# layer_sizes : number of nodes in a layer (input+hidden+output)\n",
    "layer_sizes = [30, 10, 3, 1]\n",
    "# activations : type of activation used in each layer\n",
    "activations = [\"tanh\", \"tanh\", \"sigmoid\"]\n",
    "n_iter = 50\n",
    "learning_rate = 0.01\n",
    "costs = []\n",
    "\n",
    "params = initialize_nn(nl, layer_sizes)\n",
    "for i in range(n_iter):\n",
    "    A_cache, Z_cache = forward(X, params, nl, activations)\n",
    "    costs.append(calc_cost(A_cache[\"A\"+str(nl)], Y, m))\n",
    "    dparams = backprop(Y, m, nl, A_cache, Z_cache, params, activations)\n",
    "    params = update_params(nl, learning_rate, params, dparams)"
   ]
  },
  {
   "cell_type": "code",
   "execution_count": 86,
   "metadata": {
    "ExecuteTime": {
     "end_time": "2019-01-16T13:54:41.482860Z",
     "start_time": "2019-01-16T13:54:41.256669Z"
    }
   },
   "outputs": [
    {
     "data": {
      "image/png": "[encoded data removed]",
      "text/plain": [
       "<matplotlib.figure.Figure at 0x7f29bf067668>"
      ]
     },
     "metadata": {},
     "output_type": "display_data"
    }
   ],
   "source": [
    "plt.plot(np.arange(n_iter), costs)\n",
    "plt.show()"
   ]
  },
  {
   "cell_type": "code",
   "execution_count": 87,
   "metadata": {
    "ExecuteTime": {
     "end_time": "2019-01-16T13:54:41.692620Z",
     "start_time": "2019-01-16T13:54:41.671513Z"
    }
   },
   "outputs": [],
   "source": [
    "m = X_test.shape[0]\n",
    "Y_test = Y_test.reshape(1,m)\n",
    "X_test = X_test.reshape(n,m)\n",
    "A_cache, Z_cache = forward(X_test, params, nl, activations)"
   ]
  },
  {
   "cell_type": "code",
   "execution_count": 57,
   "metadata": {
    "ExecuteTime": {
     "end_time": "2019-01-16T13:37:14.408238Z",
     "start_time": "2019-01-16T13:37:14.384919Z"
    }
   },
   "outputs": [
    {
     "name": "stdout",
     "output_type": "stream",
     "text": [
      "[[0.63183246 0.63183313 0.63183365 0.63183106 0.63183524 0.63183508\n",
      "  0.63183476 0.63183717 0.6318375  0.63183561 0.6318342  0.63183402\n",
      "  0.63183169 0.63183141 0.63183562 0.63183167 0.63183327 0.63183589\n",
      "  0.63183567 0.63183308 0.63183206 0.63183537 0.63183512 0.63183185\n",
      "  0.63183486 0.63183464 0.63183138 0.63183321 0.63183181 0.63183277\n",
      "  0.63182983 0.63183389 0.63183023 0.63183379 0.63183309 0.63183237\n",
      "  0.63183396 0.63183515 0.63183542 0.63183383 0.63183494 0.63183496\n",
      "  0.63183366 0.63183471 0.63183527 0.63183562 0.63183519 0.63183565\n",
      "  0.63183419 0.63183296 0.6318328  0.63183468 0.63183374 0.63183242\n",
      "  0.63183468 0.63183503 0.63183373 0.63183408 0.6318342  0.63183295\n",
      "  0.63183638 0.63183335 0.63183652 0.63183371 0.63182976 0.63183262\n",
      "  0.63182545 0.63183302 0.6318288  0.63182776 0.63183559 0.63183311\n",
      "  0.6318319  0.63183171 0.63183544 0.63183407 0.63183446 0.63183687\n",
      "  0.63183318 0.63183131 0.631835   0.63183229 0.63183413 0.63183511\n",
      "  0.63183172 0.63183484 0.63183426 0.63183529 0.63183199 0.63182931\n",
      "  0.63183758 0.63183524 0.63183406 0.63183184 0.63183257 0.63183407\n",
      "  0.6318346  0.63183037 0.63183458 0.63183407 0.63183347 0.63183549\n",
      "  0.63182916 0.63183547 0.631834   0.63183672 0.63183656 0.63183464\n",
      "  0.63183579 0.6318324  0.63183587 0.63183633 0.63183423 0.63183228]]\n"
     ]
    },
    {
     "data": {
      "text/plain": [
       "array(0.67232288)"
      ]
     },
     "execution_count": 57,
     "metadata": {},
     "output_type": "execute_result"
    }
   ],
   "source": [
    "A = A_cache[\"A\"+str(nl)]\n",
    "print(A)\n",
    "calc_cost(A, Y_test, m)"
   ]
  },
  {
   "cell_type": "code",
   "execution_count": null,
   "metadata": {},
   "outputs": [],
   "source": []
  }
 ],
 "metadata": {
  "kernelspec": {
   "display_name": "Python 3",
   "language": "python",
   "name": "python3"
  },
  "language_info": {
   "codemirror_mode": {
    "name": "ipython",
    "version": 3
   },
   "file_extension": ".py",
   "mimetype": "text/x-python",
   "name": "python",
   "nbconvert_exporter": "python",
   "pygments_lexer": "ipython3",
   "version": "3.6.7"
  }
 },
 "nbformat": 4,
 "nbformat_minor": 2
}
