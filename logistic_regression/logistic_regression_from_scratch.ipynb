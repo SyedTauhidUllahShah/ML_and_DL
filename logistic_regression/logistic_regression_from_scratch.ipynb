{
 "cells": [
  {
   "cell_type": "code",
   "execution_count": 1,
   "metadata": {
    "ExecuteTime": {
     "end_time": "2019-01-13T13:03:59.688431Z",
     "start_time": "2019-01-13T13:03:59.681363Z"
    }
   },
   "outputs": [],
   "source": [
    "# Logistic Regression from scratch without using any library\n",
    "# Author: Tushar Mittal (@techytushar)"
   ]
  },
  {
   "cell_type": "code",
   "execution_count": 108,
   "metadata": {
    "ExecuteTime": {
     "end_time": "2019-01-14T08:09:36.515383Z",
     "start_time": "2019-01-14T08:09:32.989797Z"
    }
   },
   "outputs": [],
   "source": [
    "import numpy as np\n",
    "import matplotlib.pyplot as plt\n",
    "from sklearn.datasets import load_breast_cancer\n",
    "from sklearn.preprocessing import normalize\n",
    "from sklearn.model_selection import train_test_split\n",
    "np.random.seed(2)"
   ]
  },
  {
   "cell_type": "code",
   "execution_count": 103,
   "metadata": {
    "ExecuteTime": {
     "end_time": "2019-01-14T08:08:04.708584Z",
     "start_time": "2019-01-14T08:08:04.698018Z"
    }
   },
   "outputs": [],
   "source": [
    "# Function to calculate the error\n",
    "def calculate_cost(A,Y,m):\n",
    "    cost = ((Y*np.log(A)) + ((1-Y)*np.log(1-A)))\n",
    "    return -np.mean(cost)"
   ]
  },
  {
   "cell_type": "code",
   "execution_count": 104,
   "metadata": {
    "ExecuteTime": {
     "end_time": "2019-01-14T08:08:04.997183Z",
     "start_time": "2019-01-14T08:08:04.991686Z"
    }
   },
   "outputs": [],
   "source": [
    "# Function to compute gradients\n",
    "def gradient_descent(X,A,Y,m):\n",
    "    dZ = (A-Y)\n",
    "    dW = np.dot(X.T, dZ)/m\n",
    "    db = np.sum(dZ, axis=0, keepdims=True)/m\n",
    "    return dW,db"
   ]
  },
  {
   "cell_type": "code",
   "execution_count": 105,
   "metadata": {
    "ExecuteTime": {
     "end_time": "2019-01-14T08:08:05.551746Z",
     "start_time": "2019-01-14T08:08:05.543164Z"
    }
   },
   "outputs": [],
   "source": [
    "# makes predictions using the parameters\n",
    "def predict(X,W,b):\n",
    "    Z = np.dot(X,W)+b\n",
    "    A = 1/(1+np.exp(-Z))\n",
    "    return A"
   ]
  },
  {
   "cell_type": "code",
   "execution_count": 117,
   "metadata": {
    "ExecuteTime": {
     "end_time": "2019-01-14T08:15:58.170848Z",
     "start_time": "2019-01-14T08:15:58.149867Z"
    }
   },
   "outputs": [],
   "source": [
    "# The logistic regression algorithm (prediction -> compute cost -> gradient descent -> update parameters) \n",
    "def driver(X, Y, m, n, learning_rate=1.5, n_iter=2000):\n",
    "    W = np.random.randn(n,1)\n",
    "    b = np.zeros((1,1))\n",
    "    costs = []\n",
    "    for i in range(n_iter):\n",
    "        A = predict(X,W,b)\n",
    "        cost = calculate_cost(A,Y,m)\n",
    "        if i%100==0:\n",
    "            costs.append(cost)\n",
    "        dW,db = gradient_descent(X,A,Y,m)\n",
    "        W = W - (learning_rate*dW)\n",
    "        b = b - (learning_rate*db)\n",
    "\n",
    "    return costs, W, b"
   ]
  },
  {
   "cell_type": "code",
   "execution_count": 118,
   "metadata": {
    "ExecuteTime": {
     "end_time": "2019-01-14T08:16:01.960569Z",
     "start_time": "2019-01-14T08:16:01.927035Z"
    }
   },
   "outputs": [],
   "source": [
    "# data loading and preprocessing\n",
    "data = load_breast_cancer()\n",
    "X = data.data\n",
    "X = normalize(X)\n",
    "Y = data.target\n",
    "X_train, X_test, Y_train, Y_test = train_test_split(X,Y, test_size=0.20)\n",
    "m = X_train.shape[0]\n",
    "n = X_train.shape[1]\n",
    "Y_train = Y_train.reshape(m,1)"
   ]
  },
  {
   "cell_type": "code",
   "execution_count": 119,
   "metadata": {
    "ExecuteTime": {
     "end_time": "2019-01-14T08:16:04.955581Z",
     "start_time": "2019-01-14T08:16:04.220828Z"
    }
   },
   "outputs": [
    {
     "data": {
      "image/png": "[encoded data removed]",
      "text/plain": [
       "<matplotlib.figure.Figure at 0x7ffa5f7b9e80>"
      ]
     },
     "metadata": {},
     "output_type": "display_data"
    }
   ],
   "source": [
    "# training the model\n",
    "costs, W, b = driver(X_train, Y_train, m, n)\n",
    "plt.plot(np.arange(20),costs)\n",
    "plt.title(\"Iterations vs Costs\")\n",
    "plt.show()"
   ]
  },
  {
   "cell_type": "code",
   "execution_count": 120,
   "metadata": {
    "ExecuteTime": {
     "end_time": "2019-01-14T08:16:08.560007Z",
     "start_time": "2019-01-14T08:16:08.553290Z"
    }
   },
   "outputs": [
    {
     "name": "stdout",
     "output_type": "stream",
     "text": [
      "The Logistic Regression model trained with 60.85964912280702% accuracy\n"
     ]
    }
   ],
   "source": [
    "# Computing the accuracy\n",
    "predictions = predict(X_test, W, b)\n",
    "predictions = np.where(predictions>=0.5, 1, 0)\n",
    "score = ((Y_test==predictions).sum())/Y_test.shape\n",
    "print(f\"The Logistic Regression model trained with {score[0]}% accuracy\")"
   ]
  },
  {
   "cell_type": "code",
   "execution_count": null,
   "metadata": {},
   "outputs": [],
   "source": []
  }
 ],
 "metadata": {
  "kernelspec": {
   "display_name": "Python 3",
   "language": "python",
   "name": "python3"
  },
  "language_info": {
   "codemirror_mode": {
    "name": "ipython",
    "version": 3
   },
   "file_extension": ".py",
   "mimetype": "text/x-python",
   "name": "python",
   "nbconvert_exporter": "python",
   "pygments_lexer": "ipython3",
   "version": "3.6.7"
  }
 },
 "nbformat": 4,
 "nbformat_minor": 2
}
