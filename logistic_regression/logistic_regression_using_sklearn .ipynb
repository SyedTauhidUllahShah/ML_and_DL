{
 "cells": [
  {
   "cell_type": "code",
   "execution_count": 2,
   "metadata": {
    "ExecuteTime": {
     "end_time": "2019-01-13T12:12:13.737314Z",
     "start_time": "2019-01-13T12:12:13.729477Z"
    }
   },
   "outputs": [],
   "source": [
    "#Implementation of Logistic Regression using Scikit Learn\n",
    "#Author: Tushar Mittal"
   ]
  },
  {
   "cell_type": "code",
   "execution_count": 63,
   "metadata": {
    "ExecuteTime": {
     "end_time": "2019-01-13T12:45:31.712367Z",
     "start_time": "2019-01-13T12:45:31.699588Z"
    }
   },
   "outputs": [],
   "source": [
    "#Importing the required libraries\n",
    "import numpy as np\n",
    "from sklearn.datasets import load_breast_cancer\n",
    "from sklearn.preprocessing import StandardScaler\n",
    "from sklearn.model_selection import train_test_split\n",
    "from sklearn.linear_model import LogisticRegression, LogisticRegressionCV"
   ]
  },
  {
   "cell_type": "code",
   "execution_count": 71,
   "metadata": {
    "ExecuteTime": {
     "end_time": "2019-01-13T12:49:06.359329Z",
     "start_time": "2019-01-13T12:49:06.334443Z"
    }
   },
   "outputs": [],
   "source": [
    "#Loading the dataset, use data.DESCR to know more about the data\n",
    "data = load_breast_cancer()\n",
    "X = data.data\n",
    "Y = data.target\n",
    "m = X.shape[0]\n",
    "n = X.shape[1]"
   ]
  },
  {
   "cell_type": "code",
   "execution_count": 72,
   "metadata": {
    "ExecuteTime": {
     "end_time": "2019-01-13T12:49:06.697281Z",
     "start_time": "2019-01-13T12:49:06.687475Z"
    }
   },
   "outputs": [],
   "source": [
    "# Preprocessing the data\n",
    "X_train, X_test, Y_train, Y_test = train_test_split(X,Y)\n",
    "scaler = StandardScaler()\n",
    "X_train = scaler.fit_transform(X_train)\n",
    "X_test = scaler.fit_transform(X_test)"
   ]
  },
  {
   "cell_type": "code",
   "execution_count": 73,
   "metadata": {
    "ExecuteTime": {
     "end_time": "2019-01-13T12:49:08.047751Z",
     "start_time": "2019-01-13T12:49:08.034242Z"
    }
   },
   "outputs": [],
   "source": [
    "# Defining the models, cv->cross validation\n",
    "logistic_model = LogisticRegression(max_iter=1000, solver=\"lbfgs\")\n",
    "logistic_model_cv = LogisticRegressionCV(cv=5, max_iter=1000, solver=\"lbfgs\")"
   ]
  },
  {
   "cell_type": "code",
   "execution_count": 74,
   "metadata": {
    "ExecuteTime": {
     "end_time": "2019-01-13T12:49:10.191840Z",
     "start_time": "2019-01-13T12:49:09.125348Z"
    }
   },
   "outputs": [
    {
     "data": {
      "text/plain": [
       "LogisticRegressionCV(Cs=10, class_weight=None, cv=5, dual=False,\n",
       "           fit_intercept=True, intercept_scaling=1.0, max_iter=1000,\n",
       "           multi_class='warn', n_jobs=None, penalty='l2',\n",
       "           random_state=None, refit=True, scoring=None, solver='lbfgs',\n",
       "           tol=0.0001, verbose=0)"
      ]
     },
     "execution_count": 74,
     "metadata": {},
     "output_type": "execute_result"
    }
   ],
   "source": [
    "# Training the model\n",
    "logistic_model.fit(X_train,Y_train)\n",
    "logistic_model_cv.fit(X_train,Y_train)"
   ]
  },
  {
   "cell_type": "code",
   "execution_count": 75,
   "metadata": {
    "ExecuteTime": {
     "end_time": "2019-01-13T12:49:14.375910Z",
     "start_time": "2019-01-13T12:49:14.358445Z"
    }
   },
   "outputs": [
    {
     "name": "stdout",
     "output_type": "stream",
     "text": [
      "Logistic Model trained with 96.5034965034965% accuracy\n",
      "Logistic Model trained with 95.1048951048951% accuracy using the cross validation set\n"
     ]
    }
   ],
   "source": [
    "# Model Accuracy\n",
    "print(f\"Logistic Model trained with {logistic_model.score(X_test,Y_test)*100}% accuracy\")\n",
    "print(f\"Logistic Model trained with {logistic_model_cv.score(X_test,Y_test)*100}% accuracy using the cross validation set\")"
   ]
  },
  {
   "cell_type": "code",
   "execution_count": null,
   "metadata": {},
   "outputs": [],
   "source": []
  }
 ],
 "metadata": {
  "kernelspec": {
   "display_name": "Python 3",
   "language": "python",
   "name": "python3"
  },
  "language_info": {
   "codemirror_mode": {
    "name": "ipython",
    "version": 3
   },
   "file_extension": ".py",
   "mimetype": "text/x-python",
   "name": "python",
   "nbconvert_exporter": "python",
   "pygments_lexer": "ipython3",
   "version": "3.6.7"
  }
 },
 "nbformat": 4,
 "nbformat_minor": 2
}
