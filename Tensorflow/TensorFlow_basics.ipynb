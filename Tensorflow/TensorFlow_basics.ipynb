{
 "cells": [
  {
   "cell_type": "code",
   "execution_count": null,
   "metadata": {},
   "outputs": [],
   "source": [
    "#Tensorflow basics (how to define a computation graph and run it in a session)\n",
    "#Author: Tushar Mittal (@techytushar)"
   ]
  },
  {
   "cell_type": "code",
   "execution_count": 6,
   "metadata": {
    "ExecuteTime": {
     "end_time": "2019-01-24T12:39:39.509857Z",
     "start_time": "2019-01-24T12:39:39.503347Z"
    }
   },
   "outputs": [],
   "source": [
    "import tensorflow as tf\n",
    "import numpy as np\n",
    "import matplotlib.pyplot as plt"
   ]
  },
  {
   "cell_type": "code",
   "execution_count": 7,
   "metadata": {
    "ExecuteTime": {
     "end_time": "2019-01-24T12:39:40.358039Z",
     "start_time": "2019-01-24T12:39:40.341841Z"
    }
   },
   "outputs": [
    {
     "name": "stdout",
     "output_type": "stream",
     "text": [
      "6.3999996\n",
      "Tensor(\"add_2:0\", shape=(), dtype=float32)\n"
     ]
    }
   ],
   "source": [
    "#Defining the computation graph\n",
    "a = tf.constant(2.3)\n",
    "b = tf.constant(4.1)\n",
    "c = a+b\n",
    "d = c*2.3\n",
    "# Running the computation graph in a session\n",
    "with tf.Session() as sess:\n",
    "    print(sess.run(c))\n",
    "print(c)"
   ]
  },
  {
   "cell_type": "code",
   "execution_count": 9,
   "metadata": {
    "ExecuteTime": {
     "end_time": "2019-01-24T12:39:41.354261Z",
     "start_time": "2019-01-24T12:39:41.332662Z"
    }
   },
   "outputs": [
    {
     "name": "stdout",
     "output_type": "stream",
     "text": [
      "[[20. 40.]\n",
      " [10. 20.]]\n"
     ]
    }
   ],
   "source": [
    "#Placeholder are datatypes whose values are provided later at runtime\n",
    "x = tf.placeholder(tf.float32)\n",
    "y = tf.placeholder(tf.float32)\n",
    "z = x*y\n",
    "with tf.Session() as sess:\n",
    "    temp = sess.run(z,{x:[5,10],y:[[4],[2]]})\n",
    "print(temp)"
   ]
  },
  {
   "cell_type": "code",
   "execution_count": 21,
   "metadata": {
    "ExecuteTime": {
     "end_time": "2019-01-24T13:19:36.173746Z",
     "start_time": "2019-01-24T13:19:35.635189Z"
    }
   },
   "outputs": [],
   "source": [
    "# Implementing simple Linear Regression model\n",
    "# Model parameters (W,b)\n",
    "W = tf.Variable(.5, tf.float32)\n",
    "b = tf.Variable(0., tf.float32)\n",
    "#input and output\n",
    "x = tf.placeholder(tf.float32)\n",
    "y = tf.placeholder(tf.float32)\n",
    "model = (W*x)+b\n",
    "cost = tf.reduce_sum((model-y)**2)\n",
    "\n",
    "#initializes all variables in the computation graph\n",
    "init = tf.global_variables_initializer()\n",
    "#defining an optimizer to update the parameter's values\n",
    "optimizer = tf.train.GradientDescentOptimizer(0.01)\n",
    "train = optimizer.minimize(cost)\n",
    "costs = []\n",
    "with tf.Session() as sess:\n",
    "    sess.run(init)\n",
    "    for i in range(500):\n",
    "        sess.run(train, {x:[1,2,3,4],y:[0,-1,-2,-3]})\n",
    "        costs.append(sess.run(cost,{x:[1,2,3,4],y:[0,-1,-2,-3]}))"
   ]
  },
  {
   "cell_type": "code",
   "execution_count": 22,
   "metadata": {
    "ExecuteTime": {
     "end_time": "2019-01-24T13:19:44.784880Z",
     "start_time": "2019-01-24T13:19:44.492871Z"
    }
   },
   "outputs": [
    {
     "data": {
      "image/png": "[encoded data removed]",
      "text/plain": [
       "<matplotlib.figure.Figure at 0x7fa435693a20>"
      ]
     },
     "metadata": {},
     "output_type": "display_data"
    }
   ],
   "source": [
    "plt.plot(np.arange(500), costs)\n",
    "plt.show()"
   ]
  },
  {
   "cell_type": "code",
   "execution_count": null,
   "metadata": {},
   "outputs": [],
   "source": [
    "#using Tensorboard (run tensorboard --logdir=\"<Parent directory of graph file>\")\n",
    "File_Writer = tf.summary.FileWriter(\"ENTER PATH HERE\", sess.graph)"
   ]
  }
 ],
 "metadata": {
  "kernelspec": {
   "display_name": "Python 3",
   "language": "python",
   "name": "python3"
  },
  "language_info": {
   "codemirror_mode": {
    "name": "ipython",
    "version": 3
   },
   "file_extension": ".py",
   "mimetype": "text/x-python",
   "name": "python",
   "nbconvert_exporter": "python",
   "pygments_lexer": "ipython3",
   "version": "3.6.7"
  }
 },
 "nbformat": 4,
 "nbformat_minor": 2
}
