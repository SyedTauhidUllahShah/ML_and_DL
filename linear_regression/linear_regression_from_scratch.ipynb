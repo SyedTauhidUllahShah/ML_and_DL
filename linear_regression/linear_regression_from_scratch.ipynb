{
 "cells": [
  {
   "cell_type": "code",
   "execution_count": 3,
   "metadata": {
    "ExecuteTime": {
     "end_time": "2019-01-11T08:40:53.861171Z",
     "start_time": "2019-01-11T08:40:53.853505Z"
    }
   },
   "outputs": [],
   "source": [
    "#Implemetation of Linear Regression from scrath without any library function\n",
    "#Author: Tushar Mittal (@techytushar)"
   ]
  },
  {
   "cell_type": "code",
   "execution_count": 4,
   "metadata": {
    "ExecuteTime": {
     "end_time": "2019-01-14T08:18:56.628675Z",
     "start_time": "2019-01-14T08:18:53.044439Z"
    }
   },
   "outputs": [],
   "source": [
    "import numpy as np\n",
    "import matplotlib.pyplot as plt\n",
    "from sklearn.datasets import load_boston\n",
    "from sklearn.metrics import r2_score"
   ]
  },
  {
   "cell_type": "code",
   "execution_count": 5,
   "metadata": {
    "ExecuteTime": {
     "end_time": "2019-01-14T08:18:56.637544Z",
     "start_time": "2019-01-14T08:18:56.632873Z"
    }
   },
   "outputs": [],
   "source": [
    "# Computes the Mean Squared Error\n",
    "def compute_cost(W, b, X, Y):\n",
    "    m = Y.shape[0]\n",
    "    predictions = np.dot(X,W)+b\n",
    "    cost = np.sum((predictions-Y)**2)/(2*m)\n",
    "    return cost"
   ]
  },
  {
   "cell_type": "code",
   "execution_count": 6,
   "metadata": {
    "ExecuteTime": {
     "end_time": "2019-01-14T08:18:58.245313Z",
     "start_time": "2019-01-14T08:18:58.240998Z"
    }
   },
   "outputs": [],
   "source": [
    "# The gradient descent algo used to learn the parameters\n",
    "def gradient_descent(learning_rate, W, b, X, Y):\n",
    "    m = Y.shape[0]\n",
    "    predictions = np.dot(X,W) + b\n",
    "    error = np.sum((predictions-Y)*X, axis=0, keepdims=True)/m\n",
    "    b = b - ((learning_rate*np.sum(predictions-Y))/m)\n",
    "    W = W - (learning_rate*error.T)\n",
    "    return W,b"
   ]
  },
  {
   "cell_type": "code",
   "execution_count": 16,
   "metadata": {
    "ExecuteTime": {
     "end_time": "2019-01-14T08:20:12.630543Z",
     "start_time": "2019-01-14T08:20:12.620821Z"
    }
   },
   "outputs": [],
   "source": [
    "def driver(X, Y, learning_rate = 0.5, iterations = 1500):\n",
    "    # W: model parameters\n",
    "    # b: intercept\n",
    "    initial_b = 1\n",
    "    initial_W = np.zeros((13,1))\n",
    "    costs = []\n",
    "    W,b = gradient_descent(learning_rate, initial_W, initial_b, X, Y)\n",
    "    for i in range(iterations):\n",
    "        if i%100==0:\n",
    "            costs.append(compute_cost(W,b,X,Y))\n",
    "        W,b = gradient_descent(learning_rate, W, b, X, Y)\n",
    "    \n",
    "    return costs,W,b"
   ]
  },
  {
   "cell_type": "code",
   "execution_count": 17,
   "metadata": {
    "ExecuteTime": {
     "end_time": "2019-01-14T08:20:12.825957Z",
     "start_time": "2019-01-14T08:20:12.803224Z"
    }
   },
   "outputs": [],
   "source": [
    "#Loading the dataset \n",
    "data = load_boston()\n",
    "X = data.data\n",
    "Y = data.target\n",
    "# m: number of training examples\n",
    "m = X.shape[0]\n",
    "# n: number of features\n",
    "n = X.shape[1]\n",
    "Y = Y.reshape(m,1)\n",
    "# appling feature scaling\n",
    "scale = np.ptp(X, axis=0)\n",
    "X = (X-np.average(X,axis=0))/scale"
   ]
  },
  {
   "cell_type": "code",
   "execution_count": 19,
   "metadata": {
    "ExecuteTime": {
     "end_time": "2019-01-14T08:20:24.972766Z",
     "start_time": "2019-01-14T08:20:24.695492Z"
    }
   },
   "outputs": [
    {
     "name": "stdout",
     "output_type": "stream",
     "text": [
      "Model trained with an accuracy of 74.06360618990317%\n"
     ]
    },
    {
     "data": {
      "image/png": "[encoded data removed]",
      "text/plain": [
       "<matplotlib.figure.Figure at 0x7ff48b8a7518>"
      ]
     },
     "metadata": {},
     "output_type": "display_data"
    }
   ],
   "source": [
    "costs,W,b = driver(X,Y)\n",
    "predict = np.dot(X,W) + b\n",
    "print(f\"Model trained with an accuracy of {r2_score(Y,predict)*100}%\")\n",
    "plt.plot(np.arange(15), costs)\n",
    "plt.title(\"Iterations vs Error\")\n",
    "plt.show()"
   ]
  },
  {
   "cell_type": "code",
   "execution_count": null,
   "metadata": {},
   "outputs": [],
   "source": []
  }
 ],
 "metadata": {
  "kernelspec": {
   "display_name": "Python 3",
   "language": "python",
   "name": "python3"
  },
  "language_info": {
   "codemirror_mode": {
    "name": "ipython",
    "version": 3
   },
   "file_extension": ".py",
   "mimetype": "text/x-python",
   "name": "python",
   "nbconvert_exporter": "python",
   "pygments_lexer": "ipython3",
   "version": "3.6.7"
  }
 },
 "nbformat": 4,
 "nbformat_minor": 2
}
