{
 "cells": [
  {
   "cell_type": "code",
   "execution_count": 3,
   "metadata": {
    "ExecuteTime": {
     "end_time": "2019-01-11T08:40:53.861171Z",
     "start_time": "2019-01-11T08:40:53.853505Z"
    }
   },
   "outputs": [],
   "source": [
    "#Implemetation of Linear Regression from scrath without any library function\n",
    "#Author: Tushar Mittal (@techytushar)"
   ]
  },
  {
   "cell_type": "code",
   "execution_count": 1,
   "metadata": {
    "ExecuteTime": {
     "end_time": "2019-01-11T11:44:44.198227Z",
     "start_time": "2019-01-11T11:44:43.960443Z"
    }
   },
   "outputs": [],
   "source": [
    "import numpy as np\n",
    "import matplotlib.pyplot as plt\n",
    "from sklearn.datasets import load_boston\n",
    "from sklearn.metrics import r2_score"
   ]
  },
  {
   "cell_type": "code",
   "execution_count": 2,
   "metadata": {
    "ExecuteTime": {
     "end_time": "2019-01-11T11:45:08.503317Z",
     "start_time": "2019-01-11T11:45:08.494944Z"
    }
   },
   "outputs": [],
   "source": [
    "# Computes the Mean Squared Error\n",
    "def compute_error(W, b, X, Y):\n",
    "    m = Y.shape[0]\n",
    "    predictions = np.dot(X,W)+b\n",
    "    error = np.sum((predictions-Y)**2)/(2*m)\n",
    "    return error"
   ]
  },
  {
   "cell_type": "code",
   "execution_count": 3,
   "metadata": {
    "ExecuteTime": {
     "end_time": "2019-01-11T11:45:09.002055Z",
     "start_time": "2019-01-11T11:45:08.995020Z"
    }
   },
   "outputs": [],
   "source": [
    "# The gradient descent algo used to learn the parameters\n",
    "def gradient_descent(learning_rate, W, b, X, Y):\n",
    "    m = Y.shape[0]\n",
    "    predictions = np.dot(X,W) + b\n",
    "    error = np.sum((predictions-Y)*X, axis=0, keepdims=True)/m\n",
    "    b = b - ((learning_rate*np.sum(predictions-Y))/m)\n",
    "    W = W - (learning_rate*error.T)\n",
    "    return W,b"
   ]
  },
  {
   "cell_type": "code",
   "execution_count": 28,
   "metadata": {
    "ExecuteTime": {
     "end_time": "2019-01-11T11:49:38.400482Z",
     "start_time": "2019-01-11T11:49:38.379605Z"
    }
   },
   "outputs": [],
   "source": [
    "def driver(X, Y, learning_rate = 0.5, iterations = 1500):\n",
    "    # W: model parameters\n",
    "    # b: intercept\n",
    "    initial_b = 1\n",
    "    initial_W = np.zeros((13,1))\n",
    "    errors = []\n",
    "    W,b = gradient_descent(learning_rate, initial_W, initial_b, X, Y)\n",
    "    for i in range(iterations):\n",
    "        errors.append(compute_error(W,b,X,Y))\n",
    "        W,b = gradient_descent(learning_rate, W, b, X, Y)\n",
    "    \n",
    "    return errors,W,b"
   ]
  },
  {
   "cell_type": "code",
   "execution_count": 29,
   "metadata": {
    "ExecuteTime": {
     "end_time": "2019-01-11T11:49:38.786682Z",
     "start_time": "2019-01-11T11:49:38.766622Z"
    }
   },
   "outputs": [],
   "source": [
    "#Loading the dataset \n",
    "data = load_boston()\n",
    "X = data.data\n",
    "Y = data.target\n",
    "# m: number of training examples\n",
    "m = X.shape[0]\n",
    "# n: number of features\n",
    "n = X.shape[1]\n",
    "Y = Y.reshape(m,1)\n",
    "# appling feature scaling\n",
    "scale = np.ptp(X, axis=0)\n",
    "X = (X-np.average(X,axis=0))/scale"
   ]
  },
  {
   "cell_type": "code",
   "execution_count": 37,
   "metadata": {
    "ExecuteTime": {
     "end_time": "2019-01-11T11:59:29.429289Z",
     "start_time": "2019-01-11T11:59:29.048868Z"
    }
   },
   "outputs": [
    {
     "name": "stdout",
     "output_type": "stream",
     "text": [
      "Model trained with an accuracy of 74.06360618990317%\n"
     ]
    },
    {
     "data": {
      "image/png": "[encoded data removed]",
      "text/plain": [
       "<matplotlib.figure.Figure at 0x7f097a327160>"
      ]
     },
     "metadata": {},
     "output_type": "display_data"
    }
   ],
   "source": [
    "errors,W,b = driver(X,Y)\n",
    "predict = np.dot(X,W) + b\n",
    "print(f\"Model trained with an accuracy of {r2_score(Y,predict)*100}%\")\n",
    "plt.plot(np.arange(1,1501), errors)\n",
    "plt.title(\"Iterations vs Error\")\n",
    "plt.show()"
   ]
  },
  {
   "cell_type": "code",
   "execution_count": null,
   "metadata": {},
   "outputs": [],
   "source": []
  }
 ],
 "metadata": {
  "kernelspec": {
   "display_name": "Python 3",
   "language": "python",
   "name": "python3"
  },
  "language_info": {
   "codemirror_mode": {
    "name": "ipython",
    "version": 3
   },
   "file_extension": ".py",
   "mimetype": "text/x-python",
   "name": "python",
   "nbconvert_exporter": "python",
   "pygments_lexer": "ipython3",
   "version": "3.6.7"
  }
 },
 "nbformat": 4,
 "nbformat_minor": 2
}
